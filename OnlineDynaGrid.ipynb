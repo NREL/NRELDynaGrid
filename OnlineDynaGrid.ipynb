{
 "cells": [
  {
   "cell_type": "code",
   "execution_count": 39,
   "metadata": {},
   "outputs": [
    {
     "name": "stderr",
     "output_type": "stream",
     "text": [
      "\u001b[32m\u001b[1m  Activating\u001b[22m\u001b[39m environment at `~/dev/Julia/DynaGrid/OnlineOptDynaGrid/Project.toml`\n"
     ]
    },
    {
     "name": "stderr",
     "output_type": "stream",
     "text": [
      "\u001b[32m\u001b[1m   Resolving\u001b[22m\u001b[39m package versions...\n"
     ]
    },
    {
     "name": "stderr",
     "output_type": "stream",
     "text": [
      "\u001b[32m\u001b[1m  No Changes\u001b[22m\u001b[39m to `~/dev/Julia/DynaGrid/OnlineOptDynaGrid/Project.toml`\n",
      "\u001b[32m\u001b[1m  No Changes\u001b[22m\u001b[39m to `~/dev/Julia/DynaGrid/OnlineOptDynaGrid/Manifest.toml`\n"
     ]
    },
    {
     "name": "stderr",
     "output_type": "stream",
     "text": [
      "\u001b[32m\u001b[1m   Resolving\u001b[22m\u001b[39m package versions...\n"
     ]
    },
    {
     "name": "stderr",
     "output_type": "stream",
     "text": [
      "\u001b[32m\u001b[1m  No Changes\u001b[22m\u001b[39m to `~/dev/Julia/DynaGrid/OnlineOptDynaGrid/Project.toml`\n",
      "\u001b[32m\u001b[1m  No Changes\u001b[22m\u001b[39m to `~/dev/Julia/DynaGrid/OnlineOptDynaGrid/Manifest.toml`\n"
     ]
    },
    {
     "name": "stderr",
     "output_type": "stream",
     "text": [
      "\u001b[32m\u001b[1m   Resolving\u001b[22m\u001b[39m package versions...\n"
     ]
    },
    {
     "name": "stderr",
     "output_type": "stream",
     "text": [
      "\u001b[32m\u001b[1m  No Changes\u001b[22m\u001b[39m to `~/dev/Julia/DynaGrid/OnlineOptDynaGrid/Project.toml`\n",
      "\u001b[32m\u001b[1m  No Changes\u001b[22m\u001b[39m to `~/dev/Julia/DynaGrid/OnlineOptDynaGrid/Manifest.toml`\n"
     ]
    },
    {
     "name": "stderr",
     "output_type": "stream",
     "text": [
      "\u001b[32m\u001b[1m   Resolving\u001b[22m\u001b[39m package versions...\n"
     ]
    },
    {
     "name": "stderr",
     "output_type": "stream",
     "text": [
      "\u001b[32m\u001b[1m  No Changes\u001b[22m\u001b[39m to `~/dev/Julia/DynaGrid/OnlineOptDynaGrid/Project.toml`\n",
      "\u001b[32m\u001b[1m  No Changes\u001b[22m\u001b[39m to `~/dev/Julia/DynaGrid/OnlineOptDynaGrid/Manifest.toml`\n"
     ]
    }
   ],
   "source": [
    "using Pkg\n",
    "Pkg.activate(\".\")\n",
    "Pkg.add(\"PowerModelsDistribution\")\n",
    "Pkg.add(\"Ipopt\")\n",
    "Pkg.add(\"JuMP\")\n",
    "Pkg.add(\"HiGHS\")"
   ]
  },
  {
   "cell_type": "code",
   "execution_count": 40,
   "metadata": {},
   "outputs": [],
   "source": [
    "using PowerModelsDistribution\n",
    "const PMD = PowerModelsDistribution\n",
    "using OnlineOptDynaGrid\n",
    "import Ipopt\n",
    "import JuMP\n",
    "import HiGHS"
   ]
  },
  {
   "cell_type": "code",
   "execution_count": 51,
   "metadata": {},
   "outputs": [
    {
     "name": "stderr",
     "output_type": "stream",
     "text": [
      "\u001b[36m\u001b[1m[ \u001b[22m\u001b[39m\u001b[36m\u001b[1mPowerModelsDistribution | Info ] : \u001b[22m\u001b[39mCircuit has been reset with the 'clear' on line 1 in 'IEEE_13_new.dss'\n",
      "\u001b[33m\u001b[1m┌ \u001b[22m\u001b[39m\u001b[33m\u001b[1mPowerModelsDistribution | Warning ] : \u001b[22m\u001b[39mCommand 'calcv' on line 167 in 'IEEE_13_new.dss' is not recognized, skipping.\n",
      "\u001b[33m\u001b[1m└ \u001b[22m\u001b[39m\u001b[90m@ PowerModelsDistribution ~/.julia/packages/PowerModelsDistribution/4Twb2/src/io/dss/dss_parse.jl:967\u001b[39m\n",
      "\u001b[36m\u001b[1m[ \u001b[22m\u001b[39m\u001b[36m\u001b[1mPowerModelsDistribution | Info ] : \u001b[22m\u001b[39mCommand 'solve' on line 176 in 'IEEE_13_new.dss' is not supported, skipping.\n"
     ]
    },
    {
     "data": {
      "text/plain": [
       "Dict{Symbol, Any} with 22 entries:\n",
       "  :p      => Dict{Tuple{Int64, Int64, Int64}, JuMP.Containers.DenseAxisArray{Ju…\n",
       "  :vi     => Dict{Int64, JuMP.Containers.DenseAxisArray{JuMP.VariableRef, 1, Tu…\n",
       "  :se     => 1-dimensional DenseAxisArray{JuMP.VariableRef,1,...} with index se…\n",
       "  :qsw    => Dict{Any, Any}((3, 11, 23)=>1-dimensional DenseAxisArray{JuMP.Vari…\n",
       "  :ps     => Dict{Int64, JuMP.Containers.DenseAxisArray{JuMP.VariableRef, 1, Tu…\n",
       "  :qs     => Dict{Int64, JuMP.Containers.DenseAxisArray{JuMP.VariableRef, 1, Tu…\n",
       "  :qg_bus => Dict{Int64, Any}(4=>1-dimensional DenseAxisArray{JuMP.VariableRef,…\n",
       "  :sc     => 1-dimensional DenseAxisArray{JuMP.VariableRef,1,...} with index se…\n",
       "  :qg     => Dict{Int64, JuMP.Containers.DenseAxisArray{JuMP.VariableRef, 1, Tu…\n",
       "  :qsc    => 1-dimensional DenseAxisArray{JuMP.VariableRef,1,...} with index se…\n",
       "  :pt     => Dict{Tuple{Int64, Int64, Int64}, JuMP.Containers.DenseAxisArray{Ju…\n",
       "  :qd     => Dict{Int64, Any}()\n",
       "  :pg_bus => Dict{Int64, Any}(4=>1-dimensional DenseAxisArray{JuMP.VariableRef,…\n",
       "  :sd     => 1-dimensional DenseAxisArray{JuMP.VariableRef,1,...} with index se…\n",
       "  :q      => Dict{Tuple{Int64, Int64, Int64}, JuMP.Containers.DenseAxisArray{Ju…\n",
       "  :vr     => Dict{Int64, JuMP.Containers.DenseAxisArray{JuMP.VariableRef, 1, Tu…\n",
       "  :psw    => Dict{Any, Any}((3, 11, 23)=>1-dimensional DenseAxisArray{JuMP.Vari…\n",
       "  :qt     => Dict{Tuple{Int64, Int64, Int64}, JuMP.Containers.DenseAxisArray{Ju…\n",
       "  :qd_bus => Dict{Int64, Any}(5=>1-dimensional DenseAxisArray{Float64,1,...} wi…\n",
       "  ⋮       => ⋮"
      ]
     },
     "metadata": {},
     "output_type": "display_data"
    }
   ],
   "source": [
    "pmd_path = joinpath(dirname(pathof(PowerModelsDistribution)), \"..\")\n",
    "ipopt_solver = optimizer_with_attributes(Ipopt.Optimizer, \"print_level\"=>0)\n",
    "HiGHS_solver = optimizer_with_attributes(\n",
    "\tHiGHS.Optimizer,\n",
    "\t\"presolve\"=>\"off\",\n",
    "\t\"primal_feasibility_tolerance\"=>1e-6,\n",
    "\t\"dual_feasibility_tolerance\"=>1e-6,\n",
    "\t\"mip_feasibility_tolerance\"=>1e-4,\n",
    "\t\"mip_rel_gap\"=>1e-4,\n",
    "\t\"small_matrix_value\"=>1e-12,\n",
    "\t\"allow_unbounded_or_infeasible\"=>true\n",
    ")\n",
    "\n",
    "# case_file = joinpath(pmd_path, \"test/data/opendss/IEEE13_Assets.dss\")\n",
    "case_file = \"./data/dss/IEEE_13_new.dss\"\n",
    "\n",
    "\n",
    "case = parse_file(case_file)\n",
    "\n",
    "case_math = transform_data_model(case)\n",
    "\n",
    "pm = instantiate_mc_model(case_math, ACRUPowerModel, build_mc_opf);\n",
    "var(pm, 0)"
   ]
  },
  {
   "cell_type": "code",
   "execution_count": 42,
   "metadata": {},
   "outputs": [
    {
     "data": {
      "text/plain": [
       "Dict{String, Any} with 8 entries:\n",
       "  \"solve_time\"         => 0.325864\n",
       "  \"optimizer\"          => \"Ipopt\"\n",
       "  \"termination_status\" => ALMOST_LOCALLY_SOLVED\n",
       "  \"dual_status\"        => NEARLY_FEASIBLE_POINT\n",
       "  \"primal_status\"      => NEARLY_FEASIBLE_POINT\n",
       "  \"objective\"          => 0.0\n",
       "  \"solution\"           => Dict{String, Any}(\"bus\"=>Dict{String, Any}(\"800aux\"=>…\n",
       "  \"objective_lb\"       => -Inf"
      ]
     },
     "metadata": {},
     "output_type": "display_data"
    }
   ],
   "source": [
    "# Solve the power flow equations using Ipopt\n",
    "# Power flow model is ACRUPowerModel: AC Rectangular Unbalanced\n",
    "result = solve_mc_pf(case, ACRUPowerModel, ipopt_solver)"
   ]
  }
 ],
 "metadata": {
  "kernelspec": {
   "display_name": "Julia 1.6.0",
   "language": "julia",
   "name": "julia-1.6"
  },
  "language_info": {
   "file_extension": ".jl",
   "mimetype": "application/julia",
   "name": "julia",
   "version": "1.6.0"
  },
  "orig_nbformat": 4
 },
 "nbformat": 4,
 "nbformat_minor": 2
}
